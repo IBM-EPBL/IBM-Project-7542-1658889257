{
  "nbformat": 4,
  "nbformat_minor": 0,
  "metadata": {
    "colab": {
      "provenance": []
    },
    "kernelspec": {
      "name": "python3",
      "display_name": "Python 3"
    },
    "language_info": {
      "name": "python"
    }
  },
  "cells": [
    {
      "cell_type": "markdown",
      "source": [
        "Image processing\n",
        "\n",
        "Apply ImageDataGenerator Functionality To Train And Test Set"
      ],
      "metadata": {
        "id": "DTTYYbbM0mk1"
      }
    },
    {
      "cell_type": "code",
      "source": [
        "#import imagedatagenerator\n",
        "from keras.preprocessing.image import ImageDataGenerator"
      ],
      "metadata": {
        "id": "2Tety1a20opJ"
      },
      "execution_count": 1,
      "outputs": []
    },
    {
      "cell_type": "code",
      "source": [
        "#training datagen\n",
        "train_datagen=ImageDataGenerator(rescale=1./255,shear_range=0.2,zoom_range=0.2,horizontal_flip=True)"
      ],
      "metadata": {
        "id": "cXGLtweH0sfS"
      },
      "execution_count": 2,
      "outputs": []
    },
    {
      "cell_type": "code",
      "source": [
        "#testing datagen\n",
        "test_datagen=ImageDataGenerator(rescale=1./255)\n",
        "\n"
      ],
      "metadata": {
        "id": "Eovie1jn0zHW"
      },
      "execution_count": 3,
      "outputs": []
    },
    {
      "cell_type": "markdown",
      "source": [
        "IMPORTING tensorflow"
      ],
      "metadata": {
        "id": "XuKHqYR-07lu"
      }
    },
    {
      "cell_type": "code",
      "source": [
        "import tensorflow as tf\n",
        "import os"
      ],
      "metadata": {
        "id": "WdlLfKn109Hg"
      },
      "execution_count": 4,
      "outputs": []
    },
    {
      "cell_type": "markdown",
      "source": [
        "IMPORTING SEQUENTIAL, DENSE, FLATTEN LAYER"
      ],
      "metadata": {
        "id": "upge5ZBT1DtL"
      }
    },
    {
      "cell_type": "code",
      "source": [
        "from tensorflow.keras.models import Sequential\n",
        "from tensorflow.keras.layers import Dense, Conv2D, Flatten, Dropout, MaxPooling2D\n",
        "from tensorflow.keras.preprocessing.image import ImageDataGenerator"
      ],
      "metadata": {
        "id": "slgKhVPx1F-Y"
      },
      "execution_count": 5,
      "outputs": []
    },
    {
      "cell_type": "code",
      "source": [
        "import numpy as np\n",
        "import matplotlib.pyplot as plt #to view graph in colab itself\n",
        "import IPython.display as display\n",
        "from PIL import Image\n",
        "import pathlib"
      ],
      "metadata": {
        "id": "bxFEFFdb1M1C"
      },
      "execution_count": 6,
      "outputs": []
    },
    {
      "cell_type": "markdown",
      "source": [
        "Unzipping the dataset"
      ],
      "metadata": {
        "id": "GdPgXI5e1Riy"
      }
    },
    {
      "cell_type": "code",
      "source": [
        "!unzip '/content/conversation engine for deaf and dumb (1).zip'"
      ],
      "metadata": {
        "colab": {
          "base_uri": "https://localhost:8080/"
        },
        "id": "-AFv8C2e1Vf9",
        "outputId": "e2d427da-9988-4776-dc43-0089e248f7b9"
      },
      "execution_count": 7,
      "outputs": [
        {
          "output_type": "stream",
          "name": "stdout",
          "text": [
            "unzip:  cannot find or open /content/conversation engine for deaf and dumb (1).zip, /content/conversation engine for deaf and dumb (1).zip.zip or /content/conversation engine for deaf and dumb (1).zip.ZIP.\n"
          ]
        }
      ]
    }
  ]
}